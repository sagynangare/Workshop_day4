{
 "cells": [
  {
   "cell_type": "code",
   "execution_count": 1,
   "metadata": {
    "colab": {},
    "colab_type": "code",
    "id": "D7U02zt_c8Ft"
   },
   "outputs": [
    {
     "name": "stderr",
     "output_type": "stream",
     "text": [
      "Using TensorFlow backend.\n"
     ]
    }
   ],
   "source": [
    "#importing the necessary modules\n",
    "from keras.datasets import mnist\n",
    "import numpy as np"
   ]
  },
  {
   "cell_type": "code",
   "execution_count": 2,
   "metadata": {
    "colab": {},
    "colab_type": "code",
    "id": "ejfQluMac8Fw"
   },
   "outputs": [],
   "source": [
    "#loading data\n",
    "(xtrain,ytrain),(xtest,ytest)=mnist.load_data()"
   ]
  },
  {
   "cell_type": "code",
   "execution_count": 3,
   "metadata": {
    "colab": {
     "base_uri": "https://localhost:8080/",
     "height": 381
    },
    "colab_type": "code",
    "id": "5jUCkrJMb9uF",
    "outputId": "185ab304-7f78-4081-b65e-194d3a51fba9"
   },
   "outputs": [
    {
     "name": "stdout",
     "output_type": "stream",
     "text": [
      "Training data:\n"
     ]
    },
    {
     "data": {
      "image/png": "[encoded data removed]",
      "text/plain": [
       "<Figure size 432x288 with 1 Axes>"
      ]
     },
     "metadata": {
      "needs_background": "light"
     },
     "output_type": "display_data"
    },
    {
     "name": "stdout",
     "output_type": "stream",
     "text": [
      "Label of this image is 9\n"
     ]
    }
   ],
   "source": [
    "#What mnist images look like\n",
    "import matplotlib.pyplot as plt\n",
    "print(\"Training data:\")\n",
    "plt.imshow(xtrain[4])\n",
    "plt.show()\n",
    "print(\"Label of this image is\",ytrain[4])"
   ]
  },
  {
   "cell_type": "code",
   "execution_count": 7,
   "metadata": {
    "colab": {
     "base_uri": "https://localhost:8080/",
     "height": 34
    },
    "colab_type": "code",
    "id": "Nw6B0K2Jc8Fz",
    "outputId": "88bb129b-2aa6-4f86-cc21-c380b9ea47bb"
   },
   "outputs": [
    {
     "data": {
      "text/plain": [
       "((60000, 28, 28, 1), (10000, 28, 28, 1), (60000,), (10000,))"
      ]
     },
     "execution_count": 7,
     "metadata": {
      "tags": []
     },
     "output_type": "execute_result"
    }
   ],
   "source": [
    "#reshaping data as needed by the model\n",
    "xtrain=np.reshape(xtrain,(-1,28,28,1))\n",
    "xtest=np.reshape(xtest,(-1,28,28,1))\n",
    "xtrain.shape,xtest.shape,ytrain.shape,ytest.shape"
   ]
  },
  {
   "cell_type": "code",
   "execution_count": 0,
   "metadata": {
    "colab": {},
    "colab_type": "code",
    "id": "O_JncxhQARaI"
   },
   "outputs": [],
   "source": [
    "#normalising\n",
    "xtrain=xtrain/255\n",
    "xtest=xtest/255"
   ]
  },
  {
   "cell_type": "code",
   "execution_count": 0,
   "metadata": {
    "colab": {},
    "colab_type": "code",
    "id": "lnvVkc6ec8F3"
   },
   "outputs": [],
   "source": [
    "#implementing one hot encoding\n",
    "from keras.utils.np_utils import to_categorical\n",
    "y_train = to_categorical(ytrain, num_classes=10)\n",
    "y_test = to_categorical(ytest, num_classes=10)"
   ]
  },
  {
   "cell_type": "code",
   "execution_count": 0,
   "metadata": {
    "colab": {},
    "colab_type": "code",
    "id": "Pkvwf0pLc8F5"
   },
   "outputs": [],
   "source": [
    "#importing the model\n",
    "from keras.models import Sequential"
   ]
  },
  {
   "cell_type": "code",
   "execution_count": 0,
   "metadata": {
    "colab": {},
    "colab_type": "code",
    "id": "Z-ltHdtbc8F7"
   },
   "outputs": [],
   "source": [
    "#creating model object\n",
    "model=Sequential()"
   ]
  },
  {
   "cell_type": "code",
   "execution_count": 0,
   "metadata": {
    "colab": {},
    "colab_type": "code",
    "id": "9HwMYc_fc8F9"
   },
   "outputs": [],
   "source": [
    "#importing layers\n",
    "from keras.layers import Conv2D,MaxPooling2D,Flatten,Dense,Dropout"
   ]
  },
  {
   "cell_type": "code",
   "execution_count": 0,
   "metadata": {
    "colab": {},
    "colab_type": "code",
    "id": "W6sDtwOec8GB"
   },
   "outputs": [],
   "source": [
    "#adding layers and forming the model\n",
    "model.add(Conv2D(32,kernel_size=5,strides=1,padding=\"Same\",activation=\"relu\",input_shape=(28,28,1)))\n",
    "model.add(MaxPooling2D(padding=\"same\"))\n",
    "\n",
    "model.add(Conv2D(64,kernel_size=5,strides=1,padding=\"same\",activation=\"relu\"))\n",
    "model.add(MaxPooling2D(padding=\"same\"))\n",
    "\n",
    "model.add(Flatten())\n",
    "\n",
    "model.add(Dense(1024,activation=\"relu\"))\n",
    "model.add(Dropout(0.2))\n",
    "model.add(Dense(10,activation=\"sigmoid\"))"
   ]
  },
  {
   "cell_type": "code",
   "execution_count": 0,
   "metadata": {
    "colab": {},
    "colab_type": "code",
    "id": "TUQetKGHc8GE"
   },
   "outputs": [],
   "source": [
    "#compiling\n",
    "model.compile(optimizer=\"adam\",loss=\"categorical_crossentropy\",metrics=[\"accuracy\"])"
   ]
  },
  {
   "cell_type": "code",
   "execution_count": 15,
   "metadata": {
    "colab": {
     "base_uri": "https://localhost:8080/",
     "height": 221
    },
    "colab_type": "code",
    "id": "KYU-n7F9c8GH",
    "outputId": "c1ff2f72-55f7-415c-cc69-bdad98549154"
   },
   "outputs": [
    {
     "name": "stdout",
     "output_type": "stream",
     "text": [
      "Train on 60000 samples, validate on 10000 samples\n",
      "Epoch 1/5\n",
      "60000/60000 [==============================] - 14s 230us/step - loss: 0.1528 - acc: 0.9534 - val_loss: 0.0411 - val_acc: 0.9865\n",
      "Epoch 2/5\n",
      "60000/60000 [==============================] - 10s 163us/step - loss: 0.0429 - acc: 0.9869 - val_loss: 0.0308 - val_acc: 0.9898\n",
      "Epoch 3/5\n",
      "60000/60000 [==============================] - 10s 163us/step - loss: 0.0308 - acc: 0.9903 - val_loss: 0.0294 - val_acc: 0.9910\n",
      "Epoch 4/5\n",
      "60000/60000 [==============================] - 10s 162us/step - loss: 0.0218 - acc: 0.9929 - val_loss: 0.0288 - val_acc: 0.9909\n",
      "Epoch 5/5\n",
      "60000/60000 [==============================] - 10s 163us/step - loss: 0.0160 - acc: 0.9949 - val_loss: 0.0288 - val_acc: 0.9912\n"
     ]
    },
    {
     "data": {
      "text/plain": [
       "<keras.callbacks.History at 0x7f8863897e10>"
      ]
     },
     "execution_count": 15,
     "metadata": {
      "tags": []
     },
     "output_type": "execute_result"
    }
   ],
   "source": [
    "#training the model\n",
    "model.fit(xtrain,y_train,batch_size=100,epochs=5,validation_data=(xtest,y_test))"
   ]
  },
  {
   "cell_type": "code",
   "execution_count": 16,
   "metadata": {
    "colab": {
     "base_uri": "https://localhost:8080/",
     "height": 68
    },
    "colab_type": "code",
    "id": "X9rt0HiFc8GK",
    "outputId": "aa9857c5-fe4c-4d44-c75f-5fe6e7a62f1e"
   },
   "outputs": [
    {
     "name": "stdout",
     "output_type": "stream",
     "text": [
      "60000/60000 [==============================] - 6s 108us/step\n",
      "10000/10000 [==============================] - 1s 109us/step\n"
     ]
    },
    {
     "data": {
      "text/plain": [
       "([0.010291422149978097, 0.9966], [0.02878557628018607, 0.9912])"
      ]
     },
     "execution_count": 16,
     "metadata": {
      "tags": []
     },
     "output_type": "execute_result"
    }
   ],
   "source": [
    "#model train and test scores\n",
    "model.evaluate(xtrain,y_train),model.evaluate(xtest,y_test)"
   ]
  }
 ],
 "metadata": {
  "accelerator": "GPU",
  "colab": {
   "collapsed_sections": [],
   "name": "CNN_keras_mnist.ipynb",
   "provenance": [],
   "version": "0.3.2"
  },
  "kernelspec": {
   "display_name": "Python 3",
   "language": "python",
   "name": "python3"
  },
  "language_info": {
   "codemirror_mode": {
    "name": "ipython",
    "version": 3
   },
   "file_extension": ".py",
   "mimetype": "text/x-python",
   "name": "python",
   "nbconvert_exporter": "python",
   "pygments_lexer": "ipython3",
   "version": "3.7.4"
  }
 },
 "nbformat": 4,
 "nbformat_minor": 1
}
